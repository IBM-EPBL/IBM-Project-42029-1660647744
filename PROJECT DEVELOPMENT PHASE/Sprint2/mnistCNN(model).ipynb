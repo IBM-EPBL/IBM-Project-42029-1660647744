{
  "cells": [
    {
      "cell_type": "code",
      "execution_count": null,
      "metadata": {
        "id": "O7eW-0FJXDYs"
      },
      "outputs": [],
      "source": [
        "import numpy\n",
        "import tensorflow\n",
        "from tensorflow.keras.datasets import mnist\n",
        "from tensorflow.keras.models import Sequential\n",
        "from tensorflow.keras import layers\n",
        "from tensorflow.keras.layers import Dense, Flatten\n",
        "\n",
        "from tensorflow.keras.layers import Conv2D\n",
        "from keras.optimizers import Adam\n",
        "from keras.utils import np_utils"
      ]
    },
    {
      "cell_type": "code",
      "execution_count": null,
      "metadata": {
        "colab": {
          "base_uri": "https://localhost:8080/"
        },
        "id": "X7il3BRIXPbY",
        "outputId": "7c0dac6d-0dd6-4a7f-979c-9c884faaba5f"
      },
      "outputs": [
        {
          "name": "stdout",
          "output_type": "stream",
          "text": [
            "Downloading data from https://storage.googleapis.com/tensorflow/tf-keras-datasets/mnist.npz\n",
            "11490434/11490434 [==============================] - 0s 0us/step\n"
          ]
        }
      ],
      "source": [
        "(x_train, y_train), (x_test, y_test) = mnist.load_data()"
      ]
    },
    {
      "cell_type": "code",
      "execution_count": null,
      "metadata": {
        "id": "vmDlds6wYIlX"
      },
      "outputs": [],
      "source": [
        "x_train = x_train.reshape(60000, 28, 28, 1).astype('float32')\n",
        "x_test = x_test.reshape(10000, 28, 28, 1).astype('float32')"
      ]
    },
    {
      "cell_type": "code",
      "execution_count": null,
      "metadata": {
        "id": "yoqe28XtYDen"
      },
      "outputs": [],
      "source": [
        "number_of_classes = 10\n",
        "y_train = np_utils.to_categorical(y_train, number_of_classes)\n",
        "y_test = np_utils.to_categorical(y_test, number_of_classes)"
      ]
    },
    {
      "cell_type": "code",
      "execution_count": null,
      "metadata": {
        "id": "TAbrqsVwXlry"
      },
      "outputs": [],
      "source": [
        "model = Sequential()\n",
        "model.add(Conv2D(64, (3, 3), input_shape = (28, 28, 1), activation = 'relu'))\n",
        "model.add(Conv2D(32, (3, 3),activation = 'relu'))\n",
        "model.add(Flatten())\n",
        "model.add(Dense(number_of_classes, activation = 'softmax'))"
      ]
    },
    {
      "cell_type": "code",
      "execution_count": null,
      "metadata": {
        "id": "rYk199IPYaQs"
      },
      "outputs": [],
      "source": [
        "model.compile(loss = 'categorical_crossentropy', optimizer = \"Adam\", metrics = ['accuracy'])"
      ]
    },
    {
      "cell_type": "code",
      "execution_count": null,
      "metadata": {
        "colab": {
          "background_save": true,
          "base_uri": "https://localhost:8080/"
        },
        "id": "8E8w5r46YmLe",
        "outputId": "86fe903b-a618-4969-ca9d-5c50de7e3091"
      },
      "outputs": [
        {
          "name": "stdout",
          "output_type": "stream",
          "text": [
            "Epoch 1/5\n",
            "1875/1875 [==============================] - 190s 101ms/step - loss: 0.2325 - accuracy: 0.9495 - val_loss: 0.0959 - val_accuracy: 0.9711\n",
            "Epoch 2/5\n",
            "1875/1875 [==============================] - 190s 101ms/step - loss: 0.0709 - accuracy: 0.9789 - val_loss: 0.0848 - val_accuracy: 0.9761\n",
            "Epoch 3/5\n",
            "1875/1875 [==============================] - 187s 100ms/step - loss: 0.0500 - accuracy: 0.9836 - val_loss: 0.1037 - val_accuracy: 0.9765\n",
            "Epoch 4/5\n",
            "1875/1875 [==============================] - 184s 98ms/step - loss: 0.0368 - accuracy: 0.9887 - val_loss: 0.1116 - val_accuracy: 0.9734\n",
            "Epoch 5/5\n",
            "1875/1875 [==============================] - 184s 98ms/step - loss: 0.0309 - accuracy: 0.9908 - val_loss: 0.1320 - val_accuracy: 0.9777\n"
          ]
        },
        {
          "data": {
            "text/plain": [
              "<keras.callbacks.History at 0x7ff922d4bfd0>"
            ]
          },
          "execution_count": 7,
          "metadata": {},
          "output_type": "execute_result"
        }
      ],
      "source": [
        "model.fit(x_train, y_train, validation_data = (x_test, y_test), epochs = 5, batch_size = 32)"
      ]
    },
    {
      "cell_type": "code",
      "execution_count": null,
      "metadata": {
        "colab": {
          "base_uri": "https://localhost:8080/"
        },
        "id": "v2YHbtFQgw7D",
        "outputId": "c7523731-2141-4529-89fe-95c0544e8172"
      },
      "outputs": [
        {
          "name": "stdout",
          "output_type": "stream",
          "text": [
            "Metrics(Test loss & Test Accuracy):\n",
            "[0.11623921245336533, 0.9761000275611877]\n"
          ]
        }
      ],
      "source": [
        "metrics = model.evaluate(x_test, y_test, verbose = 0)\n",
        "print(\"Metrics(Test loss & Test Accuracy):\")\n",
        "print(metrics)"
      ]
    },
    {
      "cell_type": "code",
      "execution_count": null,
      "metadata": {
        "colab": {
          "base_uri": "https://localhost:8080/"
        },
        "id": "rUr21Ey-hrGg",
        "outputId": "58ce9069-f2ca-4a9c-8c38-d904570a48fe"
      },
      "outputs": [
        {
          "name": "stdout",
          "output_type": "stream",
          "text": [
            "1/1 [==============================] - 0s 97ms/step\n",
            "[[1.2437441e-10 6.3942137e-19 5.5431929e-07 1.6169508e-08 2.1894654e-13\n",
            "  2.3941803e-14 2.8406087e-20 9.9999928e-01 4.7412825e-12 8.0360500e-08]\n",
            " [6.6959659e-13 2.0964447e-07 9.9999976e-01 1.0089480e-09 3.8388599e-17\n",
            "  2.1256348e-14 2.0385054e-08 1.1833877e-21 2.1424102e-09 7.4830155e-19]\n",
            " [2.9385890e-07 9.9972326e-01 5.5384539e-06 9.4967179e-14 2.6868528e-04\n",
            "  2.2555859e-07 4.3053661e-10 1.2761404e-09 2.0751997e-06 1.6646802e-09]\n",
            " [9.9999595e-01 3.6993414e-15 2.1205717e-06 8.6421443e-14 1.9172881e-10\n",
            "  7.5451749e-11 5.5626094e-07 1.5134912e-11 9.4758895e-11 1.3759874e-06]]\n"
          ]
        }
      ],
      "source": [
        "prediction = model.predict(x_test[:4])\n",
        "print(prediction)"
      ]
    },
    {
      "cell_type": "code",
      "execution_count": null,
      "metadata": {
        "colab": {
          "base_uri": "https://localhost:8080/"
        },
        "id": "lQVYilHoibV-",
        "outputId": "698f7f52-11fe-4bb7-800c-51f456e54ab9"
      },
      "outputs": [
        {
          "name": "stdout",
          "output_type": "stream",
          "text": [
            "[7 2 1 0]\n",
            "[[0. 0. 0. 0. 0. 0. 0. 1. 0. 0.]\n",
            " [0. 0. 1. 0. 0. 0. 0. 0. 0. 0.]\n",
            " [0. 1. 0. 0. 0. 0. 0. 0. 0. 0.]\n",
            " [1. 0. 0. 0. 0. 0. 0. 0. 0. 0.]]\n"
          ]
        }
      ],
      "source": [
        "import numpy as np\n",
        "print(np.argmax(prediction, axis=1))\n",
        "print(y_test[:4])"
      ]
    },
    {
      "cell_type": "code",
      "execution_count": null,
      "metadata": {
        "id": "huNdmPFCjGLF"
      },
      "outputs": [],
      "source": [
        "model.save('models/mnistCNN.h5')"
      ]
    },
    {
      "cell_type": "code",
      "execution_count": null,
      "metadata": {
        "colab": {
          "base_uri": "https://localhost:8080/",
          "height": 17
        },
        "id": "bYLne3tIm-Qu",
        "outputId": "04fbe8ac-c13a-42cc-e576-75616acd633c"
      },
      "outputs": [
        {
          "data": {
            "application/javascript": [
              "\n",
              "    async function download(id, filename, size) {\n",
              "      if (!google.colab.kernel.accessAllowed) {\n",
              "        return;\n",
              "      }\n",
              "      const div = document.createElement('div');\n",
              "      const label = document.createElement('label');\n",
              "      label.textContent = `Downloading \"${filename}\": `;\n",
              "      div.appendChild(label);\n",
              "      const progress = document.createElement('progress');\n",
              "      progress.max = size;\n",
              "      div.appendChild(progress);\n",
              "      document.body.appendChild(div);\n",
              "\n",
              "      const buffers = [];\n",
              "      let downloaded = 0;\n",
              "\n",
              "      const channel = await google.colab.kernel.comms.open(id);\n",
              "      // Send a message to notify the kernel that we're ready.\n",
              "      channel.send({})\n",
              "\n",
              "      for await (const message of channel.messages) {\n",
              "        // Send a message to notify the kernel that we're ready.\n",
              "        channel.send({})\n",
              "        if (message.buffers) {\n",
              "          for (const buffer of message.buffers) {\n",
              "            buffers.push(buffer);\n",
              "            downloaded += buffer.byteLength;\n",
              "            progress.value = downloaded;\n",
              "          }\n",
              "        }\n",
              "      }\n",
              "      const blob = new Blob(buffers, {type: 'application/binary'});\n",
              "      const a = document.createElement('a');\n",
              "      a.href = window.URL.createObjectURL(blob);\n",
              "      a.download = filename;\n",
              "      div.appendChild(a);\n",
              "      a.click();\n",
              "      div.remove();\n",
              "    }\n",
              "  "
            ],
            "text/plain": [
              "<IPython.core.display.Javascript object>"
            ]
          },
          "metadata": {},
          "output_type": "display_data"
        },
        {
          "data": {
            "application/javascript": [
              "download(\"download_3f1a39cc-669d-4ba6-802c-075cdc84b4a7\", \"mnistCNN.h5\", 2475368)"
            ],
            "text/plain": [
              "<IPython.core.display.Javascript object>"
            ]
          },
          "metadata": {},
          "output_type": "display_data"
        }
      ],
      "source": [
        "from google.colab import files\n",
        "files.download(\"models/mnistCNN.h5\")"
      ]
    }
  ],
  "metadata": {
    "colab": {
      "collapsed_sections": [],
      "provenance": []
    },
    "kernelspec": {
      "display_name": "Python 3",
      "name": "python3"
    },
    "language_info": {
      "name": "python"
    }
  },
  "nbformat": 4,
  "nbformat_minor": 0
}